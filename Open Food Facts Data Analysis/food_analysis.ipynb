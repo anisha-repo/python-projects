{
 "cells": [
  {
   "cell_type": "code",
   "execution_count": 1,
   "id": "89b97aed",
   "metadata": {},
   "outputs": [
    {
     "data": {
      "text/plain": [
       "(356027, 163)"
      ]
     },
     "execution_count": 1,
     "metadata": {},
     "output_type": "execute_result"
    }
   ],
   "source": [
    "#1,\tLoad data\tTo start working with the real dataset\n",
    "import pandas as pd\n",
    "\n",
    "df=pd.read_csv(\"en.openfoodfacts.org.products.tsv/en.openfoodfacts.org.products.tsv\",sep='\\t', low_memory=False)\n",
    "df.shape"
   ]
  },
  {
   "cell_type": "markdown",
   "id": "3bb52263",
   "metadata": {},
   "source": [
    "Main Motive / Objective:\n",
    "To analyze and understand patterns in global packaged food products using the Open Food Facts dataset, with a focus on:\n",
    "\n",
    "✅ Common brands\n",
    "✅ Countries with the most products\n",
    "✅ Nutrition levels (sugar, fat, salt)\n",
    "✅ Healthiest and unhealthiest products\n",
    "✅ General trends in food product quality\n",
    "\n",
    "✅ Why This Project?\n",
    "\n",
    "  Because food data is:\n",
    "\n",
    "📊 Real-world and messy — perfect to practice cleaning + analysis\n",
    "\n",
    "🧪 Rich in features — allows you to apply multiple pandas techniques\n",
    "\n",
    "💡 Meaningful — you can find insights that actually relate to daily life (like how sugary or salty common foods are)\n",
    "\n"
   ]
  },
  {
   "cell_type": "markdown",
   "id": "207fe6bb",
   "metadata": {},
   "source": [
    "| Step | Action                     | Why We Do It                               |\n",
    "| ---- | -------------------------- | ------------------------------------------ |\n",
    "| 1    | Load data                  | To start working with the real dataset     |\n",
    "| 2    | Keep specific columns      | To focus on relevant information only      |\n",
    "| 3    | Clean missing/invalid data | So that our analysis is accurate           |\n",
    "| 4    | Find top countries         | To see where most products come from       |\n",
    "| 5    | Find popular brands        | To understand brand dominance              |\n",
    "| 6    | Analyze fat/sugar/salt     | To explore nutritional patterns            |\n",
    "| 7    | Use NutriScore             | To identify healthy and unhealthy products |\n",
    "| 8    | (Optional) Save results    | To reuse or share cleaned data             |\n",
    "| 9    | (Optional) Visualize sugar | To show patterns more clearly              |\n"
   ]
  },
  {
   "cell_type": "code",
   "execution_count": 2,
   "id": "e1949fcc",
   "metadata": {},
   "outputs": [
    {
     "data": {
      "text/plain": [
       "['product_name',\n",
       " 'brands',\n",
       " 'countries',\n",
       " 'nutrition-score-fr_100g',\n",
       " 'energy_100g',\n",
       " 'fat_100g',\n",
       " 'sugars_100g',\n",
       " 'salt_100g']"
      ]
     },
     "execution_count": 2,
     "metadata": {},
     "output_type": "execute_result"
    }
   ],
   "source": [
    " #This step selects only the useful columns from the entire dataset.\n",
    "#Make the dataset smaller, cleaner, and focused on nutrition + branding + geography\n",
    "columns = ['product_name', 'brands', 'countries', 'nutrition-score-fr_100g',\n",
    "           'energy_100g', 'fat_100g', 'sugars_100g', 'salt_100g']\n",
    "df = df[columns]    #\"Keep only these 8 columns in the dataframe.\"\n",
    "df.columns.tolist()"
   ]
  },
  {
   "cell_type": "code",
   "execution_count": 3,
   "id": "4eb5437f",
   "metadata": {},
   "outputs": [
    {
     "name": "stdout",
     "output_type": "stream",
     "text": [
      "<class 'pandas.core.frame.DataFrame'>\n",
      "RangeIndex: 324479 entries, 0 to 324478\n",
      "Data columns (total 8 columns):\n",
      " #   Column                   Non-Null Count   Dtype  \n",
      "---  ------                   --------------   -----  \n",
      " 0   product_name             324479 non-null  object \n",
      " 1   brands                   324479 non-null  object \n",
      " 2   countries                324479 non-null  object \n",
      " 3   nutrition-score-fr_100g  249274 non-null  float64\n",
      " 4   energy_100g              288505 non-null  float64\n",
      " 5   fat_100g                 272665 non-null  float64\n",
      " 6   sugars_100g              273007 non-null  float64\n",
      " 7   salt_100g                283609 non-null  float64\n",
      "dtypes: float64(5), object(3)\n",
      "memory usage: 19.8+ MB\n"
     ]
    }
   ],
   "source": [
    "#3   Clean missing/invalid data :- So that our analysis is accurate   \n",
    "# Drop rows where these important columns are missing (delete)\n",
    "df = df.dropna(subset=['product_name', 'brands', 'countries'])  #\n",
    "\n",
    "# Reset index to keep things clean\n",
    "#After dropping rows, the index might look like: 0, 1, 5, 7, 10...\n",
    "#This line resets the index to be clean and sequential: 0, 1, 2, 3...\n",
    "df.reset_index(drop=True, inplace=True)\n",
    "\n",
    "# View summary info after cleaning\n",
    "df.info()"
   ]
  },
  {
   "cell_type": "code",
   "execution_count": 4,
   "id": "636b3b5e",
   "metadata": {},
   "outputs": [
    {
     "data": {
      "text/plain": [
       "0         Ferme t'y R'nao\n",
       "1          Torn & Glasser\n",
       "2               Grizzlies\n",
       "3          Bob's Red Mill\n",
       "4                    Unfi\n",
       "               ...       \n",
       "324474       Trader Joe's\n",
       "324475                 乐吧\n",
       "324476       Leader Price\n",
       "324477              Knorr\n",
       "324478      Market Pantry\n",
       "Name: brands, Length: 324479, dtype: object"
      ]
     },
     "execution_count": 4,
     "metadata": {},
     "output_type": "execute_result"
    }
   ],
   "source": [
    "#Step 4: Find the Top Countries by Product Count.\n",
    "'''To find out which countries have the most food products listed in the dataset.\n",
    "This gives us insight into where most packaged food items come from.'''\n",
    "df.countries.value_counts().head(10)\n",
    "df.brands"
   ]
  },
  {
   "cell_type": "code",
   "execution_count": 5,
   "id": "0780e3f4",
   "metadata": {},
   "outputs": [
    {
     "data": {
      "text/plain": [
       "brands\n",
       "Carrefour            4590\n",
       "Auchan               3891\n",
       "U                    2913\n",
       "Meijer               2574\n",
       "//Propiedad de://    2562\n",
       "Marque Repère        2441\n",
       "Casino               2353\n",
       "Leader Price         2185\n",
       "Kroger               1989\n",
       "Nestlé               1616\n",
       "Name: count, dtype: int64"
      ]
     },
     "execution_count": 5,
     "metadata": {},
     "output_type": "execute_result"
    }
   ],
   "source": [
    "#Step 5: Top Brands in the Dataset\n",
    "#To find the most frequently occurring brands in the dataset, regardless of country.\n",
    "'''Why This Matters:\n",
    "- Helps identify which brands dominate the market\n",
    "- Real-world applications: trend analysis, competitor research, marketing focus'''\n",
    "\n",
    "# Handle multiple brands per row (split by comma), clean spaces\n",
    "brand_series = df['brands'].str.split(',').explode().str.strip()\n",
    "\n",
    "# Show top 10 brands\n",
    "brand_series.value_counts().head(10)"
   ]
  },
  {
   "cell_type": "code",
   "execution_count": 6,
   "id": "8c62b041",
   "metadata": {},
   "outputs": [
    {
     "name": "stdout",
     "output_type": "stream",
     "text": [
      "Average Sugar: 15.67g per 100g\n",
      "Average Fat: 12.78g per 100g\n"
     ]
    }
   ],
   "source": [
    "#Step 6: Sugar and Fat Content Analysis\n",
    "'''\n",
    "To calculate the average amount of sugar and fat per 100g of food product.\n",
    "This gives insight into how healthy or unhealthy the general product pool is.\n",
    "\n",
    "'''\n",
    "# Calculate and display average sugar and fat content\n",
    "avg_sugar = df['sugars_100g'].mean()\n",
    "avg_fat = df['fat_100g'].mean()\n",
    "\n",
    "print(f\"Average Sugar: {avg_sugar:.2f}g per 100g\")\n",
    "print(f\"Average Fat: {avg_fat:.2f}g per 100g\")\n"
   ]
  },
  {
   "cell_type": "code",
   "execution_count": 7,
   "id": "451a9b3a",
   "metadata": {},
   "outputs": [
    {
     "name": "stdout",
     "output_type": "stream",
     "text": [
      "🥦 Healthiest Products:\n",
      "                product_name     brands  nutrition-score-fr_100g\n",
      "234505          Pois chiches    Primeal                    -15.0\n",
      "315459               Edamame  Sin marca                    -14.0\n",
      "221213          Fèves pelées     Picard                    -14.0\n",
      "287614  Edamamé Beans Nature       Lima                    -14.0\n",
      "211434  Lentilles corail bio    U Bio,U                    -14.0\n",
      "\n",
      "🍩 Unhealthiest Products:\n",
      "                                 product_name    brands  \\\n",
      "184014           Granulowany napój herbaciany  Cynxshno   \n",
      "55165                   Coffee & Milk Creamer   Tassimo   \n",
      "55140   Cafe Collection Coffee & Milk Creamer   Tassimo   \n",
      "55139         Maxwell House, Creme Cappuccino   Tassimo   \n",
      "55248     Tim Hortons, Cafe & Bake Shop Latte   Tassimo   \n",
      "\n",
      "        nutrition-score-fr_100g  \n",
      "184014                     40.0  \n",
      "55165                      40.0  \n",
      "55140                      40.0  \n",
      "55139                      40.0  \n",
      "55248                      38.0  \n"
     ]
    }
   ],
   "source": [
    "# Sort by nutrition score (lower = healthier)\n",
    "# Drop NA values just for safety\n",
    "nutri_df = df[['product_name', 'brands', 'nutrition-score-fr_100g']].dropna()\n",
    "\n",
    "# Healthiest 5 products\n",
    "print(\"🥦 Healthiest Products:\")\n",
    "print(nutri_df.sort_values(by='nutrition-score-fr_100g').head())\n",
    "\n",
    "# Unhealthiest 5 products\n",
    "print(\"\\n🍩 Unhealthiest Products:\")\n",
    "print(nutri_df.sort_values(by='nutrition-score-fr_100g', ascending=False).head())\n"
   ]
  },
  {
   "cell_type": "code",
   "execution_count": 8,
   "id": "53c37b26",
   "metadata": {},
   "outputs": [],
   "source": [
    "# Save cleaned dataset to a CSV file (without index numbers)\n",
    "df.to_excel(\"cleaned_food_data.xlsx\", index=False)\n"
   ]
  },
  {
   "cell_type": "code",
   "execution_count": 9,
   "id": "5d3bf511",
   "metadata": {},
   "outputs": [
    {
     "data": {
      "image/png": "[encoded data removed]",
      "text/plain": [
       "<Figure size 640x480 with 1 Axes>"
      ]
     },
     "metadata": {},
     "output_type": "display_data"
    }
   ],
   "source": [
    "#To visualize how much sugar (per 100g) is typically present in the food products using a histogram.\n",
    "import matplotlib.pyplot as plt\n",
    "\n",
    "# Drop missing values in sugar column for clean plotting\n",
    "df['sugars_100g'].dropna().hist(bins=30, color='skyblue', edgecolor='black')\n",
    "\n",
    "plt.title(\"Sugar Distribution per 100g\")\n",
    "plt.xlabel(\"Sugar (grams)\")\n",
    "plt.ylabel(\"Number of Products\")\n",
    "plt.grid(True)\n",
    "plt.show()\n",
    "\n"
   ]
  }
 ],
 "metadata": {
  "kernelspec": {
   "display_name": "Python (pandas_env)",
   "language": "python",
   "name": "pandas_env"
  },
  "language_info": {
   "codemirror_mode": {
    "name": "ipython",
    "version": 3
   },
   "file_extension": ".py",
   "mimetype": "text/x-python",
   "name": "python",
   "nbconvert_exporter": "python",
   "pygments_lexer": "ipython3",
   "version": "3.11.13"
  }
 },
 "nbformat": 4,
 "nbformat_minor": 5
}
